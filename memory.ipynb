{
 "cells": [
  {
   "cell_type": "code",
   "execution_count": 70,
   "id": "2dc5dac2-d2f2-4e2d-b0fe-bd21791b411d",
   "metadata": {},
   "outputs": [],
   "source": [
    "import os\n",
    "from dotenv import load_dotenv\n",
    "from operator import itemgetter\n",
    "load_dotenv()\n",
    "\n",
    "from langchain_community.document_loaders import PyPDFLoader\n",
    "from langchain_text_splitters import CharacterTextSplitter\n",
    "from langchain.document_loaders.csv_loader import CSVLoader\n",
    "\n",
    "from langchain.docstore.document import Document\n",
    "\n",
    "from langchain_community.vectorstores import Neo4jVector\n",
    "\n",
    "from langchain_openai import OpenAIEmbeddings\n",
    "from langchain.chat_models import ChatOpenAI\n",
    "from langchain.chains import RetrievalQAWithSourcesChain\n",
    "from langchain_core.prompts import ChatPromptTemplate\n",
    "from langchain_core.runnables import RunnableLambda\n",
    "\n",
    "from langchain.chains.question_answering import load_qa_chain\n"
   ]
  },
  {
   "cell_type": "code",
   "execution_count": 5,
   "id": "3e26caee-97ba-4ebb-9ae5-6cce13a3e47b",
   "metadata": {},
   "outputs": [
    {
     "name": "stdout",
     "output_type": "stream",
     "text": [
      "dYKvEn-UNbtRGWCyFzory8MUEbjc-fw-nQ53tqF5_3sneo4j+ssc://ba68e959.databases.neo4j.ioNone\n"
     ]
    }
   ],
   "source": [
    "llm = ChatOpenAI(model=\"gpt-3.5-turbo\", temperature=0)\n",
    "embedding_model = OpenAIEmbeddings()\n",
    "\n",
    "# NEO4J connection data\n",
    "load_dotenv()\n",
    "password = os.getenv(\"NEO4J_PASSWORD\")\n",
    "url = os.getenv(\"NEO4J_URL\")\n",
    "username = os.getenv(\"NEO4J_USER_NAME\")"
   ]
  },
  {
   "cell_type": "code",
   "execution_count": 79,
   "id": "b9540057-7f8b-4d3b-898a-34ec2324ce2c",
   "metadata": {},
   "outputs": [],
   "source": [
    "vectorstore = Neo4jVector.from_existing_index(\n",
    "        embedding_model,\n",
    "        url=url,\n",
    "        username=username,\n",
    "        password=password,\n",
    "        index_name=\"Chunk\",\n",
    "        )\n",
    "retriever = vectorstore.as_retriever()\n"
   ]
  },
  {
   "cell_type": "code",
   "execution_count": 211,
   "id": "7c3d740e-0314-4b3e-b224-091b978931ea",
   "metadata": {},
   "outputs": [],
   "source": [
    "template = \"\"\"You are a chatbot having a conversation with a human.\n",
    "\n",
    "Given the following extracted parts of a long document and a question, create a final answer.\n",
    "\n",
    "{context}\n",
    "\n",
    "{chat_history}\n",
    "Human: {human_input}\n",
    "Chatbot:\"\"\"\n",
    "\n",
    "prompt = PromptTemplate(\n",
    "    input_variables=[\"chat_history\", \"human_input\", \"context\"], template=template\n",
    ")\n",
    "memory_1 = ConversationBufferMemory(memory_key=\"chat_history\", input_key=\"human_input\",  chat_memory=retrieved_chat_history)\n",
    "\n",
    "chain_1 = load_qa_chain(\n",
    "    llm, chain_type=\"stuff\", memory=memory_1, prompt=prompt\n",
    ")"
   ]
  },
  {
   "cell_type": "code",
   "execution_count": 214,
   "id": "6c7e2573-7b48-48c1-9eb0-32bb695b01b1",
   "metadata": {},
   "outputs": [
    {
     "data": {
      "text/plain": [
       "[HumanMessage(content='What is my name? '),\n",
       " AIMessage(content=\" I'm sorry, I don't know your name. Can you tell me your name? If you have provided me with your name before, I can remember and use it in future conversations. However, if you want to keep your name a secret, I completely respect that decision.\"),\n",
       " HumanMessage(content='My name is Finn '),\n",
       " AIMessage(content=' Nice to meet you, Finn! I will remember your name for our future conversations. Is there anything else you would like to talk about?'),\n",
       " HumanMessage(content='What is my name? '),\n",
       " AIMessage(content=' Your name is Finn. Is there anything else you would like to talk about?')]"
      ]
     },
     "execution_count": 214,
     "metadata": {},
     "output_type": "execute_result"
    }
   ],
   "source": [
    "chat_history = chain_1.memory.chat_memory.messages\n",
    "chat_history"
   ]
  },
  {
   "cell_type": "code",
   "execution_count": 207,
   "id": "a50ba78a-9579-4cbc-a332-0ee7ee5fe5c1",
   "metadata": {},
   "outputs": [
    {
     "data": {
      "text/plain": [
       "[{'type': 'human',\n",
       "  'data': {'content': 'What is my name? ',\n",
       "   'additional_kwargs': {},\n",
       "   'type': 'human',\n",
       "   'name': None,\n",
       "   'id': None,\n",
       "   'example': False}},\n",
       " {'type': 'ai',\n",
       "  'data': {'content': \" I'm sorry, I don't know your name. Can you tell me your name? If you have provided me with your name before, I can remember and use it in future conversations. However, if you want to keep your name a secret, I completely respect that decision.\",\n",
       "   'additional_kwargs': {},\n",
       "   'type': 'ai',\n",
       "   'name': None,\n",
       "   'id': None,\n",
       "   'example': False}},\n",
       " {'type': 'human',\n",
       "  'data': {'content': 'My name is Finn ',\n",
       "   'additional_kwargs': {},\n",
       "   'type': 'human',\n",
       "   'name': None,\n",
       "   'id': None,\n",
       "   'example': False}},\n",
       " {'type': 'ai',\n",
       "  'data': {'content': ' Nice to meet you, Finn! I will remember your name for our future conversations. Is there anything else you would like to talk about?',\n",
       "   'additional_kwargs': {},\n",
       "   'type': 'ai',\n",
       "   'name': None,\n",
       "   'id': None,\n",
       "   'example': False}},\n",
       " {'type': 'human',\n",
       "  'data': {'content': 'What is my name? ',\n",
       "   'additional_kwargs': {},\n",
       "   'type': 'human',\n",
       "   'name': None,\n",
       "   'id': None,\n",
       "   'example': False}},\n",
       " {'type': 'ai',\n",
       "  'data': {'content': ' Your name is Finn. Is there anything else you would like to talk about?',\n",
       "   'additional_kwargs': {},\n",
       "   'type': 'ai',\n",
       "   'name': None,\n",
       "   'id': None,\n",
       "   'example': False}}]"
      ]
     },
     "execution_count": 207,
     "metadata": {},
     "output_type": "execute_result"
    }
   ],
   "source": [
    "ingest_to_db = messages_to_dict(chat_history)\n",
    "ingest_to_db"
   ]
  },
  {
   "cell_type": "code",
   "execution_count": 205,
   "id": "ceafe76a-1b45-4d28-a3d9-b54fc304d316",
   "metadata": {},
   "outputs": [
    {
     "data": {
      "text/plain": [
       "{'output_text': ' Your name is Finn. Is there anything else you would like to talk about?'}"
      ]
     },
     "execution_count": 205,
     "metadata": {},
     "output_type": "execute_result"
    }
   ],
   "source": [
    "query = \"What is my name? \"\n",
    "chain_1({\"input_documents\": docs, \"human_input\": query}, return_only_outputs=True)"
   ]
  },
  {
   "cell_type": "code",
   "execution_count": 204,
   "id": "f455d838-8b8c-4cef-b00d-1e3f4a0be510",
   "metadata": {},
   "outputs": [
    {
     "data": {
      "text/plain": [
       "{'output_text': ' Nice to meet you, Finn! I will remember your name for our future conversations. Is there anything else you would like to talk about?'}"
      ]
     },
     "execution_count": 204,
     "metadata": {},
     "output_type": "execute_result"
    }
   ],
   "source": [
    "query = \"My name is Finn \"\n",
    "chain_1({\"input_documents\": docs, \"human_input\": query}, return_only_outputs=True)"
   ]
  },
  {
   "cell_type": "code",
   "execution_count": 215,
   "id": "9d3a523a-f2ac-4972-b3d3-695f9df1049c",
   "metadata": {},
   "outputs": [
    {
     "ename": "ValidationError",
     "evalue": "1 validation error for ChatMessageHistory\nmessages -> 0\n  __init__() missing 1 required positional argument: 'content' (type=type_error)",
     "output_type": "error",
     "traceback": [
      "\u001b[0;31m---------------------------------------------------------------------------\u001b[0m",
      "\u001b[0;31mValidationError\u001b[0m                           Traceback (most recent call last)",
      "Cell \u001b[0;32mIn[215], line 1\u001b[0m\n\u001b[0;32m----> 1\u001b[0m retrieved_chat_history \u001b[38;5;241m=\u001b[39m \u001b[43mChatMessageHistory\u001b[49m\u001b[43m(\u001b[49m\u001b[43mmessages\u001b[49m\u001b[38;5;241;43m=\u001b[39;49m\u001b[43m[\u001b[49m\u001b[43m{\u001b[49m\u001b[43m}\u001b[49m\u001b[43m]\u001b[49m\u001b[43m)\u001b[49m\n\u001b[1;32m      2\u001b[0m retrieved_chat_history\n",
      "File \u001b[0;32m/Library/Frameworks/Python.framework/Versions/3.9/lib/python3.9/site-packages/pydantic/v1/main.py:341\u001b[0m, in \u001b[0;36mBaseModel.__init__\u001b[0;34m(__pydantic_self__, **data)\u001b[0m\n\u001b[1;32m    339\u001b[0m values, fields_set, validation_error \u001b[38;5;241m=\u001b[39m validate_model(__pydantic_self__\u001b[38;5;241m.\u001b[39m\u001b[38;5;18m__class__\u001b[39m, data)\n\u001b[1;32m    340\u001b[0m \u001b[38;5;28;01mif\u001b[39;00m validation_error:\n\u001b[0;32m--> 341\u001b[0m     \u001b[38;5;28;01mraise\u001b[39;00m validation_error\n\u001b[1;32m    342\u001b[0m \u001b[38;5;28;01mtry\u001b[39;00m:\n\u001b[1;32m    343\u001b[0m     object_setattr(__pydantic_self__, \u001b[38;5;124m'\u001b[39m\u001b[38;5;124m__dict__\u001b[39m\u001b[38;5;124m'\u001b[39m, values)\n",
      "\u001b[0;31mValidationError\u001b[0m: 1 validation error for ChatMessageHistory\nmessages -> 0\n  __init__() missing 1 required positional argument: 'content' (type=type_error)"
     ]
    }
   ],
   "source": [
    "retrieved_chat_history = ChatMessageHistory(messages=chat_history)\n",
    "retrieved_chat_history"
   ]
  },
  {
   "cell_type": "code",
   "execution_count": 217,
   "id": "9bafdc4e-349f-463e-a215-41cf006772fe",
   "metadata": {},
   "outputs": [
    {
     "data": {
      "text/plain": [
       "[{'type': 'human',\n",
       "  'data': {'content': 'What is my name? ',\n",
       "   'additional_kwargs': {},\n",
       "   'type': 'human',\n",
       "   'name': None,\n",
       "   'id': None,\n",
       "   'example': False}},\n",
       " {'type': 'ai',\n",
       "  'data': {'content': \" I'm sorry, I don't know your name. Can you tell me your name? If you have provided me with your name before, I can remember and use it in future conversations. However, if you want to keep your name a secret, I completely respect that decision.\",\n",
       "   'additional_kwargs': {},\n",
       "   'type': 'ai',\n",
       "   'name': None,\n",
       "   'id': None,\n",
       "   'example': False}},\n",
       " {'type': 'human',\n",
       "  'data': {'content': 'My name is Finn ',\n",
       "   'additional_kwargs': {},\n",
       "   'type': 'human',\n",
       "   'name': None,\n",
       "   'id': None,\n",
       "   'example': False}},\n",
       " {'type': 'ai',\n",
       "  'data': {'content': ' Nice to meet you, Finn! I will remember your name for our future conversations. Is there anything else you would like to talk about?',\n",
       "   'additional_kwargs': {},\n",
       "   'type': 'ai',\n",
       "   'name': None,\n",
       "   'id': None,\n",
       "   'example': False}},\n",
       " {'type': 'human',\n",
       "  'data': {'content': 'What is my name? ',\n",
       "   'additional_kwargs': {},\n",
       "   'type': 'human',\n",
       "   'name': None,\n",
       "   'id': None,\n",
       "   'example': False}},\n",
       " {'type': 'ai',\n",
       "  'data': {'content': ' Your name is Finn. Is there anything else you would like to talk about?',\n",
       "   'additional_kwargs': {},\n",
       "   'type': 'ai',\n",
       "   'name': None,\n",
       "   'id': None,\n",
       "   'example': False}}]"
      ]
     },
     "execution_count": 217,
     "metadata": {},
     "output_type": "execute_result"
    }
   ],
   "source": [
    "retrieve_from_db = json.loads(json.dumps(ingest_to_db))\n",
    "retrieve_from_db"
   ]
  },
  {
   "cell_type": "code",
   "execution_count": null,
   "id": "4d6a0bda-78ac-4e11-9653-8739e0e664a2",
   "metadata": {},
   "outputs": [],
   "source": [
    "ingest_to_db = messages_to_dict(extracted_messages)\n",
    "ingest_to_db"
   ]
  },
  {
   "cell_type": "code",
   "execution_count": 219,
   "id": "ec572273-15c1-4d2b-9a49-039565391cc5",
   "metadata": {},
   "outputs": [
    {
     "data": {
      "text/plain": [
       "[]"
      ]
     },
     "execution_count": 219,
     "metadata": {},
     "output_type": "execute_result"
    }
   ],
   "source": [
    "retrieved_messages = messages_from_dict([])\n",
    "retrieved_messages"
   ]
  }
 ],
 "metadata": {
  "kernelspec": {
   "display_name": "Python 3 (ipykernel)",
   "language": "python",
   "name": "python3"
  },
  "language_info": {
   "codemirror_mode": {
    "name": "ipython",
    "version": 3
   },
   "file_extension": ".py",
   "mimetype": "text/x-python",
   "name": "python",
   "nbconvert_exporter": "python",
   "pygments_lexer": "ipython3",
   "version": "3.9.0"
  }
 },
 "nbformat": 4,
 "nbformat_minor": 5
}
