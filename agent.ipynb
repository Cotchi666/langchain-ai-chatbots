{
 "cells": [
  {
   "cell_type": "code",
   "execution_count": 22,
   "metadata": {},
   "outputs": [],
   "source": [
    "import os\n",
    "from langchain.llms.openai import OpenAI\n",
    "from langchain.sql_database import SQLDatabase\n",
    "from dotenv import load_dotenv # pip install load-dotenv\n",
    "load_dotenv()\n",
    "\n",
    "import psycopg2 # pip install psycopg-binary"
   ]
  },
  {
   "cell_type": "code",
   "execution_count": 23,
   "metadata": {},
   "outputs": [
    {
     "name": "stdout",
     "output_type": "stream",
     "text": [
      "postgresql\n",
      "['knowledge']\n"
     ]
    },
    {
     "data": {
      "text/plain": [
       "\"[('knowledge name 1', 'knowledge body 1'), ('knowledge name 2', 'knowledge body 2'), ('knowledge name 3', 'knowledge body 3'), ('knowledge name 4', 'knowledge body 4'), ('knowledge name 5', 'knowledge body 5'), ('knowledge name 6', 'knowledge body 6'), ('knowledge name 7', 'knowledge body 7'), ('knowledge name 8', 'knowledge body 8'), ('knowledge name 9', 'knowledge body 9'), ('knowledge name 10', 'knowledge body 10')]\""
      ]
     },
     "execution_count": 23,
     "metadata": {},
     "output_type": "execute_result"
    }
   ],
   "source": [
    "username=\"postgres\"\n",
    "password = \"postgres\"\n",
    "host=\"localhost\"\n",
    "database= \"postgres\"\n",
    "CONNECTION_STRING = f\"postgresql+psycopg2://{username}:{password}@{host}/{database}\"\n",
    "\n",
    "db = SQLDatabase.from_uri(CONNECTION_STRING)\n",
    "print(db.dialect)\n",
    "print(db.get_usable_table_names())\n",
    "db.run(\"SELECT * FROM public.knowledge\")"
   ]
  },
  {
   "cell_type": "code",
   "execution_count": 24,
   "metadata": {},
   "outputs": [
    {
     "data": {
      "text/plain": [
       "'SELECT COUNT(*) AS total_knowledge FROM knowledge;'"
      ]
     },
     "execution_count": 24,
     "metadata": {},
     "output_type": "execute_result"
    }
   ],
   "source": [
    "from langchain.chains import create_sql_query_chain\n",
    "from langchain_openai import ChatOpenAI\n",
    "\n",
    "llm = ChatOpenAI(model=\"gpt-3.5-turbo\", temperature=0)\n",
    "chain = create_sql_query_chain(llm, db)\n",
    "response = chain.invoke({\"question\": \"How many knowledge are there\"})\n",
    "response"
   ]
  },
  {
   "cell_type": "code",
   "execution_count": 25,
   "metadata": {},
   "outputs": [
    {
     "data": {
      "text/plain": [
       "'[(10,)]'"
      ]
     },
     "execution_count": 25,
     "metadata": {},
     "output_type": "execute_result"
    }
   ],
   "source": [
    "db.run(response)\n",
    "\n"
   ]
  },
  {
   "cell_type": "code",
   "execution_count": null,
   "metadata": {},
   "outputs": [],
   "source": []
  }
 ],
 "metadata": {
  "kernelspec": {
   "display_name": "Python 3 (ipykernel)",
   "language": "python",
   "name": "python3"
  },
  "language_info": {
   "codemirror_mode": {
    "name": "ipython",
    "version": 3
   },
   "file_extension": ".py",
   "mimetype": "text/x-python",
   "name": "python",
   "nbconvert_exporter": "python",
   "pygments_lexer": "ipython3",
   "version": "3.9.0"
  }
 },
 "nbformat": 4,
 "nbformat_minor": 4
}
