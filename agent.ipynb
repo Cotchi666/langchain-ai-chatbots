{
 "cells": [
  {
   "cell_type": "code",
   "execution_count": 28,
   "metadata": {},
   "outputs": [],
   "source": [
    "import os\n",
    "from langchain.llms.openai import OpenAI\n",
    "from langchain.sql_database import SQLDatabase\n",
    "from dotenv import load_dotenv # pip install load-dotenv\n",
    "load_dotenv()\n",
    "\n",
    "import psycopg2 # pip install psycopg-binary\n",
    "\n",
    "PASSWORD = os.getenv(\"PG_PASSWORD\")\n",
    "USERNAME = os.getenv(\"PG_USERNAME\")  # Assuming this is your PostgreSQL username\n",
    "HOST =  os.getenv(\"PG_HOST\")  # Update this with your PostgreSQL host\n",
    "DATABASE =  os.getenv(\"PG_DATABASE\") "
   ]
  },
  {
   "cell_type": "code",
   "execution_count": null,
   "metadata": {},
   "outputs": [],
   "source": [
    "\n",
    "\n",
    "CONNECTION_STRING = f\"postgresql+psycopg2://{USERNAME}:{PASSWORD}@{HOST}/{DATABASE}\"\n",
    "\n",
    "db = SQLDatabase.from_uri(CONNECTION_STRING)\n",
    "print(db.dialect)\n",
    "print(db.get_usable_table_names())\n",
    "db.run(\"SELECT * FROM public.knowledge\")"
   ]
  },
  {
   "cell_type": "code",
   "execution_count": null,
   "metadata": {},
   "outputs": [],
   "source": [
    "from langchain.chains import create_sql_query_chain\n",
    "from langchain_openai import ChatOpenAI\n",
    "\n",
    "llm = ChatOpenAI(model=\"gpt-3.5-turbo\", temperature=0)\n",
    "chain = create_sql_query_chain(llm, db)\n",
    "response = chain.invoke({\"question\": \"How many knowledge are there\"})\n",
    "response"
   ]
  },
  {
   "cell_type": "code",
   "execution_count": null,
   "metadata": {},
   "outputs": [],
   "source": [
    "db.run(response)"
   ]
  },
  {
   "cell_type": "code",
   "execution_count": null,
   "metadata": {},
   "outputs": [],
   "source": []
  }
 ],
 "metadata": {
  "kernelspec": {
   "display_name": "Python 3 (ipykernel)",
   "language": "python",
   "name": "python3"
  },
  "language_info": {
   "codemirror_mode": {
    "name": "ipython",
    "version": 3
   },
   "file_extension": ".py",
   "mimetype": "text/x-python",
   "name": "python",
   "nbconvert_exporter": "python",
   "pygments_lexer": "ipython3",
   "version": "3.9.0"
  }
 },
 "nbformat": 4,
 "nbformat_minor": 4
}
