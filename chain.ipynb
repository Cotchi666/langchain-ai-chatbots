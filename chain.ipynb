{
 "cells": [
  {
   "cell_type": "code",
   "execution_count": 5,
   "id": "2dc5dac2-d2f2-4e2d-b0fe-bd21791b411d",
   "metadata": {},
   "outputs": [],
   "source": [
    "import os\n",
    "from dotenv import load_dotenv\n",
    "from operator import itemgetter\n",
    "load_dotenv()\n",
    "\n",
    "from langchain_community.document_loaders import PyPDFLoader\n",
    "from langchain_text_splitters import CharacterTextSplitter\n",
    "from langchain.document_loaders.csv_loader import CSVLoader\n",
    "\n",
    "from langchain.docstore.document import Document\n",
    "\n",
    "from langchain_community.vectorstores import Neo4jVector\n",
    "\n",
    "from langchain_openai import OpenAIEmbeddings\n",
    "from langchain.chat_models import ChatOpenAI\n",
    "from langchain.chains import RetrievalQAWithSourcesChain\n",
    "from langchain_core.prompts import ChatPromptTemplate\n",
    "from langchain_core.runnables import RunnableLambda\n",
    "\n"
   ]
  },
  {
   "cell_type": "code",
   "execution_count": 8,
   "id": "3e26caee-97ba-4ebb-9ae5-6cce13a3e47b",
   "metadata": {},
   "outputs": [],
   "source": [
    "embedding_model = OpenAIEmbeddings()\n",
    "llm =  ChatOpenAI(model=\"gpt-3.5-turbo\", temperature=0)\n",
    "url = \"neo4j+ssc://ba68e959.databases.neo4j.io\"\n",
    "username = \"neo4j\"\n",
    "password = os.getenv('NEO4J_PASSWORD') "
   ]
  },
  {
   "cell_type": "code",
   "execution_count": null,
   "id": "b9540057-7f8b-4d3b-898a-34ec2324ce2c",
   "metadata": {},
   "outputs": [],
   "source": [
    "vectorstore = Neo4jVector.from_existing_index(\n",
    "        embedding_model,\n",
    "        url=url,\n",
    "        username=username,\n",
    "        password=password,\n",
    "        index_name=\"Chunk\",\n",
    "        )\n",
    "retriever = vectorstore.as_retriever()"
   ]
  },
  {
   "cell_type": "code",
   "execution_count": 54,
   "id": "20c23ac8-e75f-43f1-bd4e-b516fb69afe5",
   "metadata": {},
   "outputs": [],
   "source": [
    "template = \"\"\"Answer the question based only on the following context:\n",
    "{context}\n",
    "Question: {question}\n",
    "\n",
    "Answer in the following language: {language}\n",
    "When you have an Answer to response to say to the Human,create a link also, you MUST use the format:\n",
    "```\n",
    "<a href=\\\"\" target=\\\"_blank\\\">our documentation</a>\n",
    "\n",
    "```\n",
    "\n",
    "\"\"\"\n",
    "prompt = ChatPromptTemplate.from_template(template)\n"
   ]
  },
  {
   "cell_type": "code",
   "execution_count": null,
   "id": "3f78d441-07af-4deb-b527-ce273f27e9b2",
   "metadata": {},
   "outputs": [],
   "source": [
    "chain = (\n",
    "    {\n",
    "        \"context\": itemgetter(\"question\") | retriever,\n",
    "        \"question\": itemgetter(\"question\"),\n",
    "        \"language\": itemgetter(\"language\"),\n",
    "        \n",
    "    }\n",
    "    | prompt\n",
    "    | llm\n",
    "    \n",
    ")\n",
    "chain.invoke({\"question\": \"Huongws\", \"language\": \"vietnamese\"})\n"
   ]
  },
  {
   "cell_type": "code",
   "execution_count": null,
   "id": "b8fdc874-0e51-4773-90d6-17146aea26dc",
   "metadata": {},
   "outputs": [],
   "source": [
    "retrieved_docs = retriever.invoke(\"Hướng dẫn\")\n",
    "retrieved_docs\n"
   ]
  }
 ],
 "metadata": {
  "kernelspec": {
   "display_name": "Python 3 (ipykernel)",
   "language": "python",
   "name": "python3"
  },
  "language_info": {
   "codemirror_mode": {
    "name": "ipython",
    "version": 3
   },
   "file_extension": ".py",
   "mimetype": "text/x-python",
   "name": "python",
   "nbconvert_exporter": "python",
   "pygments_lexer": "ipython3",
   "version": "3.9.0"
  }
 },
 "nbformat": 4,
 "nbformat_minor": 5
}
